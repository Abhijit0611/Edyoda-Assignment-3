{
 "cells": [
  {
   "cell_type": "markdown",
   "id": "dfdc95aa",
   "metadata": {},
   "source": [
    "# `Assignment 3`"
   ]
  },
  {
   "cell_type": "markdown",
   "id": "ed1b8496",
   "metadata": {},
   "source": [
    "## `Write a Python function to sum all the numbers in a list.`"
   ]
  },
  {
   "cell_type": "code",
   "execution_count": 1,
   "id": "0bb7520c",
   "metadata": {},
   "outputs": [
    {
     "name": "stdout",
     "output_type": "stream",
     "text": [
      "20\n"
     ]
    }
   ],
   "source": [
    "def sum_of_list(list1):\n",
    "    return sum(list1)\n",
    "l = [8,2,3,0,7]\n",
    "print(sum_of_list(l))"
   ]
  },
  {
   "cell_type": "markdown",
   "id": "a4ebadb0",
   "metadata": {},
   "source": [
    "## `Write a Python program to reverse a string.`"
   ]
  },
  {
   "cell_type": "code",
   "execution_count": 2,
   "id": "b0d1dc53",
   "metadata": {},
   "outputs": [
    {
     "name": "stdout",
     "output_type": "stream",
     "text": [
      "Sample string: 1234abcd\n",
      "Reversed string: dcba4321\n"
     ]
    }
   ],
   "source": [
    "def reverse(string):\n",
    "    string=string[::-1]\n",
    "    return string\n",
    "s=\"1234abcd\"\n",
    "print(\"Sample string:\",end=\" \")\n",
    "print(s)\n",
    "print(\"Reversed string:\",end=\" \")\n",
    "print(reverse(s))"
   ]
  },
  {
   "cell_type": "markdown",
   "id": "77e655f1",
   "metadata": {},
   "source": [
    "## `Write a Python function that accepts a string and calculate the number of upper case letters and lower case letters.`\n",
    "\n"
   ]
  },
  {
   "cell_type": "code",
   "execution_count": 3,
   "id": "c9fd008c",
   "metadata": {},
   "outputs": [
    {
     "name": "stdout",
     "output_type": "stream",
     "text": [
      "Enter a string: 'The quick Brow Fox'\n",
      "Accepted string:  'The quick Brow Fox'\n",
      "No. of Upper case characters: 3\n",
      "No. of Lower case characters: 12\n"
     ]
    }
   ],
   "source": [
    "def func(string):\n",
    "    print(\"Accepted string:\",string)\n",
    "    count1=0\n",
    "    count2=0\n",
    "    for i in string:\n",
    "        if i.isupper():\n",
    "            count1+=1\n",
    "        elif i.islower():\n",
    "            count2+=1\n",
    "    print(\"No. of Upper case characters:\",count1)\n",
    "    print(\"No. of Lower case characters:\",count2)\n",
    "k=str(input(\"Enter a string:\"))\n",
    "func(k)"
   ]
  },
  {
   "cell_type": "code",
   "execution_count": null,
   "id": "d4aefd4f",
   "metadata": {},
   "outputs": [],
   "source": []
  }
 ],
 "metadata": {
  "kernelspec": {
   "display_name": "Python 3 (ipykernel)",
   "language": "python",
   "name": "python3"
  },
  "language_info": {
   "codemirror_mode": {
    "name": "ipython",
    "version": 3
   },
   "file_extension": ".py",
   "mimetype": "text/x-python",
   "name": "python",
   "nbconvert_exporter": "python",
   "pygments_lexer": "ipython3",
   "version": "3.9.7"
  }
 },
 "nbformat": 4,
 "nbformat_minor": 5
}
